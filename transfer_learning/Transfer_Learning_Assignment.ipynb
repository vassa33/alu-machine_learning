{
  "nbformat": 4,
  "nbformat_minor": 0,
  "metadata": {
    "colab": {
      "provenance": []
    },
    "kernelspec": {
      "name": "python3",
      "display_name": "Python 3"
    },
    "language_info": {
      "name": "python"
    }
  },
  "cells": [
    {
      "cell_type": "markdown",
      "source": [
        "### Import necessary libraries:"
      ],
      "metadata": {
        "id": "mLr3cgZeho5U"
      }
    },
    {
      "cell_type": "code",
      "source": [
        "import tensorflow as tf\n",
        "from tensorflow.keras.applications import VGG16, ResNet50, InceptionV3\n",
        "from tensorflow.keras.layers import Dense, GlobalAveragePooling2D\n",
        "from tensorflow.keras.models import Model\n",
        "from tensorflow.keras.optimizers import Adam\n",
        "from tensorflow.keras.preprocessing.image import ImageDataGenerator\n",
        "from sklearn.metrics import precision_score, recall_score, f1_score\n",
        "import numpy as np\n",
        "import matplotlib.pyplot as plt"
      ],
      "metadata": {
        "id": "1kyrLRDQh1DH"
      },
      "execution_count": 4,
      "outputs": []
    },
    {
      "cell_type": "markdown",
      "source": [
        "### Set up data generators and load the dataset:"
      ],
      "metadata": {
        "id": "4vUjs41-h-Ab"
      }
    },
    {
      "cell_type": "code",
      "source": [
        "# Dataset preparation\n",
        "IMG_SIZE = (224, 224)\n",
        "BATCH_SIZE = 32\n",
        "\n",
        "train_datagen = ImageDataGenerator(\n",
        "    rescale=1./255,\n",
        "    rotation_range=20,\n",
        "    width_shift_range=0.2,\n",
        "    height_shift_range=0.2,\n",
        "    horizontal_flip=True,\n",
        "    zoom_range=0.2\n",
        ")\n",
        "\n",
        "val_datagen = ImageDataGenerator(rescale=1./255)\n",
        "test_datagen = ImageDataGenerator(rescale=1./255)\n",
        "\n",
        "train_generator = train_datagen.flow_from_directory(\n",
        "    'data/train',\n",
        "    target_size=IMG_SIZE,\n",
        "    batch_size=BATCH_SIZE,\n",
        "    class_mode='categorical'\n",
        ")\n",
        "\n",
        "val_generator = val_datagen.flow_from_directory(\n",
        "    'data/val',\n",
        "    target_size=IMG_SIZE,\n",
        "    batch_size=BATCH_SIZE,\n",
        "    class_mode='categorical'\n",
        ")\n",
        "\n",
        "test_generator = test_datagen.flow_from_directory(\n",
        "    'data/test',\n",
        "    target_size=IMG_SIZE,\n",
        "    batch_size=BATCH_SIZE,\n",
        "    class_mode='categorical'\n",
        ")\n",
        "\n",
        "num_classes = len(train_generator.class_indices)"
      ],
      "metadata": {
        "id": "m3o2ylsjiEzX"
      },
      "execution_count": null,
      "outputs": []
    },
    {
      "cell_type": "markdown",
      "source": [
        "### Define base models:"
      ],
      "metadata": {
        "id": "bGGpva3yiHeo"
      }
    },
    {
      "cell_type": "code",
      "source": [
        "base_models = {\n",
        "    'VGG16': VGG16(weights='imagenet', include_top=False, input_shape=IMG_SIZE + (3,)),\n",
        "    'ResNet50': ResNet50(weights='imagenet', include_top=False, input_shape=IMG_SIZE + (3,)),\n",
        "    'InceptionV3': InceptionV3(weights='imagenet', include_top=False, input_shape=IMG_SIZE + (3,))\n",
        "}"
      ],
      "metadata": {
        "id": "3YMtxJiViLX3"
      },
      "execution_count": null,
      "outputs": []
    },
    {
      "cell_type": "markdown",
      "source": [
        "### Define the fine-tuning function:"
      ],
      "metadata": {
        "id": "-SGl78f1iQyu"
      }
    },
    {
      "cell_type": "code",
      "source": [
        "def fine_tune_model(base_model, num_classes):\n",
        "    x = base_model.output\n",
        "    x = GlobalAveragePooling2D()(x)\n",
        "    x = Dense(1024, activation='relu')(x)\n",
        "    predictions = Dense(num_classes, activation='softmax')(x)\n",
        "    model = Model(inputs=base_model.input, outputs=predictions)\n",
        "\n",
        "    # Freeze base model layers\n",
        "    for layer in base_model.layers:\n",
        "        layer.trainable = False\n",
        "\n",
        "    model.compile(optimizer=Adam(lr=0.0001), loss='categorical_crossentropy', metrics=['accuracy'])\n",
        "    return model"
      ],
      "metadata": {
        "id": "ViN20V2MiVnF"
      },
      "execution_count": null,
      "outputs": []
    },
    {
      "cell_type": "markdown",
      "source": [
        "### Define the training and evaluation function:"
      ],
      "metadata": {
        "id": "8vxlTU_Wib-O"
      }
    },
    {
      "cell_type": "code",
      "source": [
        "def train_and_evaluate(model, model_name):\n",
        "    history = model.fit(\n",
        "        train_generator,\n",
        "        steps_per_epoch=train_generator.samples // BATCH_SIZE,\n",
        "        validation_data=val_generator,\n",
        "        validation_steps=val_generator.samples // BATCH_SIZE,\n",
        "        epochs=10\n",
        "    )\n",
        "\n",
        "    # Evaluate the model\n",
        "    test_loss, test_accuracy = model.evaluate(test_generator)\n",
        "\n",
        "    # Calculate precision, recall, and F1 score\n",
        "    y_pred = model.predict(test_generator)\n",
        "    y_pred_classes = np.argmax(y_pred, axis=1)\n",
        "    y_true = test_generator.classes\n",
        "\n",
        "    precision = precision_score(y_true, y_pred_classes, average='weighted')\n",
        "    recall = recall_score(y_true, y_pred_classes, average='weighted')\n",
        "    f1 = f1_score(y_true, y_pred_classes, average='weighted')\n",
        "\n",
        "    return {\n",
        "        'model': model_name,\n",
        "        'accuracy': test_accuracy,\n",
        "        'loss': test_loss,\n",
        "        'precision': precision,\n",
        "        'recall': recall,\n",
        "        'f1_score': f1,\n",
        "        'history': history\n",
        "    }"
      ],
      "metadata": {
        "id": "MZkKRRiGigad"
      },
      "execution_count": null,
      "outputs": []
    },
    {
      "cell_type": "markdown",
      "source": [
        "### Train and evaluate models:"
      ],
      "metadata": {
        "id": "KPnIecLyilQU"
      }
    },
    {
      "cell_type": "code",
      "source": [
        "results = {}\n",
        "for name, base_model in base_models.items():\n",
        "    print(f\"Training and evaluating {name}...\")\n",
        "    model = fine_tune_model(base_model, num_classes)\n",
        "    results[name] = train_and_evaluate(model, name)"
      ],
      "metadata": {
        "id": "lGwjkF1eirB_"
      },
      "execution_count": null,
      "outputs": []
    },
    {
      "cell_type": "markdown",
      "source": [
        "### Display results table:"
      ],
      "metadata": {
        "id": "TiXpGywZitZs"
      }
    },
    {
      "cell_type": "code",
      "source": [
        "print(\"\\nModel Performance Comparison:\")\n",
        "print(\"Model\\t\\tAccuracy\\tLoss\\t\\tPrecision\\tRecall\\t\\tF1 Score\")\n",
        "print(\"-\" * 80)\n",
        "for name, result in results.items():\n",
        "    print(f\"{name}\\t\\t{result['accuracy']:.4f}\\t\\t{result['loss']:.4f}\\t\\t{result['precision']:.4f}\\t\\t{result['recall']:.4f}\\t\\t{result['f1_score']:.4f}\")"
      ],
      "metadata": {
        "id": "yiPnz1NUixx6"
      },
      "execution_count": null,
      "outputs": []
    },
    {
      "cell_type": "markdown",
      "source": [
        "### Plot training history:"
      ],
      "metadata": {
        "id": "daC_ooyfi0sg"
      }
    },
    {
      "cell_type": "code",
      "source": [
        "plt.figure(figsize=(15, 5))\n",
        "for name, result in results.items():\n",
        "    plt.plot(result['history'].history['accuracy'], label=f'{name} Training Accuracy')\n",
        "    plt.plot(result['history'].history['val_accuracy'], label=f'{name} Validation Accuracy')\n",
        "\n",
        "plt.title('Model Accuracy')\n",
        "plt.xlabel('Epoch')\n",
        "plt.ylabel('Accuracy')\n",
        "plt.legend()\n",
        "plt.show()"
      ],
      "metadata": {
        "id": "ArbXo2-_i57i"
      },
      "execution_count": null,
      "outputs": []
    },
    {
      "cell_type": "markdown",
      "source": [
        "### Print fine-tuning process description:"
      ],
      "metadata": {
        "id": "pwrQmCo8i8SU"
      }
    },
    {
      "cell_type": "code",
      "source": [
        "print(\"\\nFine-tuning Process:\")\n",
        "print(\"1. I started with pre-trained models (VGG16, ResNet50, InceptionV3) and froze their base layers.\")\n",
        "print(\"2. I added a Global Average Pooling layer to reduce the spatial dimensions.\")\n",
        "print(\"3. I added a dense layer with 1024 units and ReLU activation for feature extraction.\")\n",
        "print(\"4. I added a final dense layer with softmax activation for classification.\")\n",
        "print(\"5. I used a small learning rate (0.0001) to fine-tune the model without disrupting the pre-trained weights.\")\n",
        "print(\"6. I used data augmentation techniques to increase the diversity of our training data.\")\n",
        "print(\"7. I trained the models for 10 epochs, which can be adjusted based on performance.\")"
      ],
      "metadata": {
        "id": "6S8Y7vSbjBF7"
      },
      "execution_count": null,
      "outputs": []
    }
  ]
}